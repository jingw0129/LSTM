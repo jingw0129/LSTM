{
 "cells": [
  {
   "cell_type": "code",
   "execution_count": 173,
   "metadata": {},
   "outputs": [],
   "source": [
    "import torch \n",
    "import torch.nn as nn\n",
    "import torch.nn.functional as F\n",
    "import torch.optim as optim\n",
    "import numpy as np"
   ]
  },
  {
   "cell_type": "code",
   "execution_count": 174,
   "metadata": {},
   "outputs": [
    {
     "data": {
      "text/plain": [
       "<torch._C.Generator at 0x144605be170>"
      ]
     },
     "execution_count": 174,
     "metadata": {},
     "output_type": "execute_result"
    }
   ],
   "source": [
    "torch.manual_seed(1)"
   ]
  },
  {
   "cell_type": "code",
   "execution_count": 175,
   "metadata": {},
   "outputs": [
    {
     "data": {
      "text/plain": [
       "[tensor([[-0.5525,  0.6355, -0.3968]]),\n",
       " tensor([[-0.6571, -1.6428,  0.9803]]),\n",
       " tensor([[-0.0421, -0.8206,  0.3133]]),\n",
       " tensor([[-1.1352,  0.3773, -0.2824]]),\n",
       " tensor([[-2.5667, -1.4303,  0.5009]])]"
      ]
     },
     "execution_count": 175,
     "metadata": {},
     "output_type": "execute_result"
    }
   ],
   "source": [
    "LSTM = nn.LSTM(3,3)\n",
    "input_ = [torch.randn(1,3) for _ in range(5)]\n",
    "input_"
   ]
  },
  {
   "cell_type": "code",
   "execution_count": 176,
   "metadata": {},
   "outputs": [
    {
     "data": {
      "text/plain": [
       "(tensor([[[ 0.5438, -0.4057,  1.1341]]]),\n",
       " tensor([[[-1.1115,  0.3501, -0.7703]]]))"
      ]
     },
     "execution_count": 176,
     "metadata": {},
     "output_type": "execute_result"
    }
   ],
   "source": [
    "hidden = (\n",
    "            torch.randn(1,1,3),\n",
    "            torch.randn(1,1,3)\n",
    ")\n",
    "hidden"
   ]
  },
  {
   "cell_type": "code",
   "execution_count": 177,
   "metadata": {},
   "outputs": [],
   "source": [
    "for i in input_:\n",
    "    out, hidden = LSTM(i.view(1,1,-1), hidden)"
   ]
  },
  {
   "cell_type": "code",
   "execution_count": 178,
   "metadata": {},
   "outputs": [
    {
     "data": {
      "text/plain": [
       "tensor([[[-0.3600,  0.0893,  0.0215]]], grad_fn=<StackBackward>)"
      ]
     },
     "execution_count": 178,
     "metadata": {},
     "output_type": "execute_result"
    }
   ],
   "source": [
    "out"
   ]
  },
  {
   "cell_type": "code",
   "execution_count": 179,
   "metadata": {},
   "outputs": [
    {
     "data": {
      "text/plain": [
       "(tensor([[[-0.3600,  0.0893,  0.0215]]], grad_fn=<StackBackward>),\n",
       " tensor([[[-1.1298,  0.4467,  0.0254]]], grad_fn=<StackBackward>))"
      ]
     },
     "execution_count": 179,
     "metadata": {},
     "output_type": "execute_result"
    }
   ],
   "source": [
    "hidden"
   ]
  },
  {
   "cell_type": "code",
   "execution_count": 180,
   "metadata": {},
   "outputs": [],
   "source": [
    "input_ = torch.cat(input_).view(len(input_), 1,-1)\n",
    "hidden = (torch.randn(1,1,3), torch.randn(1,1,3))"
   ]
  },
  {
   "cell_type": "code",
   "execution_count": 181,
   "metadata": {},
   "outputs": [
    {
     "data": {
      "text/plain": [
       "tensor([[[-0.5525,  0.6355, -0.3968]],\n",
       "\n",
       "        [[-0.6571, -1.6428,  0.9803]],\n",
       "\n",
       "        [[-0.0421, -0.8206,  0.3133]],\n",
       "\n",
       "        [[-1.1352,  0.3773, -0.2824]],\n",
       "\n",
       "        [[-2.5667, -1.4303,  0.5009]]])"
      ]
     },
     "execution_count": 181,
     "metadata": {},
     "output_type": "execute_result"
    }
   ],
   "source": [
    "input_"
   ]
  },
  {
   "cell_type": "code",
   "execution_count": 182,
   "metadata": {},
   "outputs": [
    {
     "data": {
      "text/plain": [
       "(tensor([[[-0.1473,  0.6272,  1.0935]]]),\n",
       " tensor([[[ 0.0939,  1.2381, -1.3459]]]))"
      ]
     },
     "execution_count": 182,
     "metadata": {},
     "output_type": "execute_result"
    }
   ],
   "source": [
    "hidden"
   ]
  },
  {
   "cell_type": "markdown",
   "metadata": {},
   "source": [
    "PART OF SPEECH TAGGING"
   ]
  },
  {
   "cell_type": "code",
   "execution_count": 183,
   "metadata": {},
   "outputs": [],
   "source": [
    "# output will be tensor([0, 1, 2, 3, 4, 5, 6, 7])\n",
    "def prepare_sequence(seq, to_id):\n",
    "    idex = [to_id[w] for w in seq]\n",
    "    return torch.tensor(idex, dtype = torch.long)"
   ]
  },
  {
   "cell_type": "code",
   "execution_count": 184,
   "metadata": {},
   "outputs": [],
   "source": [
    "train_data = [('There is a dog lying in the garden'.split(), ['DET','V','NUM', 'NN','V','PREP','DET','NN']),\n",
    "              ('Today is a sunny day'.split(), ['NN','V','NUM','ADJ','NN'])\n",
    "             ]\n",
    "   "
   ]
  },
  {
   "cell_type": "code",
   "execution_count": 185,
   "metadata": {},
   "outputs": [
    {
     "name": "stdout",
     "output_type": "stream",
     "text": [
      "{'There': 0, 'is': 1, 'a': 2, 'dog': 3, 'lying': 4, 'in': 5, 'the': 6, 'garden': 7, 'Today': 8, 'sunny': 9, 'day': 10}\n"
     ]
    }
   ],
   "source": [
    "# define the unique word dict                                 \n",
    "word_to_id = {}\n",
    "for sent,tags in train_data:\n",
    "    for word in sent:\n",
    "        if word not in word_to_id:\n",
    "            word_to_id[word] = len(word_to_id)\n",
    "print(word_to_id)"
   ]
  },
  {
   "cell_type": "code",
   "execution_count": 186,
   "metadata": {},
   "outputs": [],
   "source": [
    "# define tag id dict\n",
    "tag_to_id = {\"DET\": 0, \"NN\": 1, \"V\": 2,'NUM':3,'PREP':4,'ADJ':5}"
   ]
  },
  {
   "cell_type": "code",
   "execution_count": 187,
   "metadata": {},
   "outputs": [],
   "source": [
    "EMBEDDING_DIM = 6\n",
    "HIDDEN_DIM = 6"
   ]
  },
  {
   "cell_type": "markdown",
   "metadata": {},
   "source": [
    "creat model"
   ]
  },
  {
   "cell_type": "code",
   "execution_count": 188,
   "metadata": {},
   "outputs": [],
   "source": [
    "class LSTM(nn.Module):\n",
    "    def __init__(self, embedding_dim, hidden_dim, vocab_size, tagset_size):\n",
    "        super(LSTM, self).__init__()\n",
    "        self.hidden_dim = hidden_dim\n",
    "        self.word_embedding = nn.Embedding(vocab_size, embedding_dim)\n",
    "#         word_embedding is input, output is hidden state\n",
    "        self.lstm = nn.LSTM(embedding_dim, hidden_dim)\n",
    "    \n",
    "        self.hidden_to_tag = nn.Linear(hidden_dim, tagset_size)\n",
    "    \n",
    "    def forward(self, sentence):\n",
    "        embeds = self.word_embedding(sentence)\n",
    "#         print('embeds are : ',embeds)\n",
    "        lstm_out, _ = self.lstm(embeds.view(len(sentence),1,-1))\n",
    "#         print('lstm_out and _ are here repectively： ', lstm_out, _)\n",
    "        tag_space = self.hidden_to_tag(lstm_out.view(len(sentence), -1))\n",
    "#         print('tag_space',tag_space)\n",
    "        tag_score = F.log_softmax(tag_space, dim = 1)\n",
    "#         print('tag_score is the output : ',tag_score)\n",
    "        return tag_score"
   ]
  },
  {
   "cell_type": "markdown",
   "metadata": {},
   "source": [
    "training process"
   ]
  },
  {
   "cell_type": "code",
   "execution_count": 189,
   "metadata": {},
   "outputs": [
    {
     "name": "stdout",
     "output_type": "stream",
     "text": [
      "11 6\n"
     ]
    }
   ],
   "source": [
    "print(len(word_to_id), len(tag_to_id))"
   ]
  },
  {
   "cell_type": "code",
   "execution_count": 190,
   "metadata": {},
   "outputs": [],
   "source": [
    "model = LSTM(EMBEDDING_DIM, HIDDEN_DIM, len(word_to_id), len(tag_to_id))\n",
    "criterion = nn.NLLLoss()\n",
    "optimizer = optim.SGD(filter(lambda p : p.requires_grad, model.parameters()), lr = 0.1)"
   ]
  },
  {
   "cell_type": "code",
   "execution_count": 191,
   "metadata": {
    "scrolled": true
   },
   "outputs": [],
   "source": [
    "with torch.no_grad():\n",
    "    inputs = prepare_sequence(train_data[0][0], word_to_id)\n",
    "#     print(inputs)\n",
    "    tag_score = model(inputs)\n",
    "#     print(tag_score)"
   ]
  },
  {
   "cell_type": "code",
   "execution_count": 192,
   "metadata": {},
   "outputs": [
    {
     "data": {
      "text/plain": [
       "{'There': 0,\n",
       " 'is': 1,\n",
       " 'a': 2,\n",
       " 'dog': 3,\n",
       " 'lying': 4,\n",
       " 'in': 5,\n",
       " 'the': 6,\n",
       " 'garden': 7,\n",
       " 'Today': 8,\n",
       " 'sunny': 9,\n",
       " 'day': 10}"
      ]
     },
     "execution_count": 192,
     "metadata": {},
     "output_type": "execute_result"
    }
   ],
   "source": [
    "word_to_id"
   ]
  },
  {
   "cell_type": "code",
   "execution_count": 205,
   "metadata": {
    "scrolled": true
   },
   "outputs": [
    {
     "name": "stdout",
     "output_type": "stream",
     "text": [
      "tensor(0.0624, grad_fn=<NllLossBackward>)\n"
     ]
    }
   ],
   "source": [
    "for epoch in range(300):\n",
    "    for sen, tag in train_data:\n",
    "#         print(sen, tag)\n",
    "        model.zero_grad()\n",
    "        \n",
    "        sen_input = prepare_sequence(sen, word_to_id)\n",
    "#         print(sen_input)\n",
    "        targets = prepare_sequence(tag, tag_to_id)\n",
    "        \n",
    "        tag_score = model(sen_input)\n",
    "#         print(tag_score, targets)\n",
    "        loss = criterion(tag_score, targets)\n",
    "#         \n",
    "        \n",
    "        loss.backward()\n",
    "        optimizer.step()\n",
    "print(loss)"
   ]
  },
  {
   "cell_type": "markdown",
   "metadata": {},
   "source": [
    "score after training"
   ]
  },
  {
   "cell_type": "code",
   "execution_count": 207,
   "metadata": {},
   "outputs": [
    {
     "name": "stdout",
     "output_type": "stream",
     "text": [
      "tensor([0, 1, 2, 3, 4, 5, 6, 7])\n",
      "tensor([[-0.2784, -2.0590, -4.7458, -3.1336, -4.1343, -3.0549],\n",
      "        [-4.9679, -4.4353, -0.0542, -4.7550, -3.6900, -7.8939],\n",
      "        [-3.4356, -6.8892, -5.0189, -0.0676, -5.7163, -3.8069],\n",
      "        [-4.3982, -0.0541, -5.0893, -6.6567, -3.7977, -4.5596],\n",
      "        [-5.2755, -3.8170, -0.0634, -5.7282, -3.4806, -8.1740],\n",
      "        [-3.2021, -2.9814, -2.4296, -4.3147, -0.2201, -5.3534],\n",
      "        [-0.0736, -3.3402, -5.5987, -4.6752, -4.2477, -4.7992],\n",
      "        [-3.1255, -0.0745, -4.8526, -6.1490, -4.2647, -5.5462]])\n"
     ]
    },
    {
     "data": {
      "text/plain": [
       "(8, 6)"
      ]
     },
     "execution_count": 207,
     "metadata": {},
     "output_type": "execute_result"
    }
   ],
   "source": [
    "# Can't call numpy() on Variable that requires grad. Use var.detach().numpy() instead.\n",
    "with torch.no_grad():\n",
    "    inputs = prepare_sequence(train_data[0][0], word_to_id)\n",
    "    print(inputs)\n",
    "    tag_scores = model(inputs)\n",
    "    print(tag_scores)\n",
    "ps = torch.exp(tag_scores).detach().numpy()\n",
    "ps.shape"
   ]
  },
  {
   "cell_type": "code",
   "execution_count": 193,
   "metadata": {},
   "outputs": [
    {
     "data": {
      "text/plain": [
       "{'DET': 0, 'NN': 1, 'V': 2, 'NUM': 3, 'PREP': 4, 'ADJ': 5}"
      ]
     },
     "execution_count": 193,
     "metadata": {},
     "output_type": "execute_result"
    }
   ],
   "source": [
    "tag_to_id"
   ]
  },
  {
   "cell_type": "code",
   "execution_count": 209,
   "metadata": {},
   "outputs": [
    {
     "data": {
      "text/plain": [
       "['There', 'is', 'a', 'dog', 'lying', 'in', 'the', 'garden']"
      ]
     },
     "execution_count": 209,
     "metadata": {},
     "output_type": "execute_result"
    }
   ],
   "source": [
    "train_data[0][0]\n",
    "# 02312401"
   ]
  },
  {
   "cell_type": "code",
   "execution_count": 210,
   "metadata": {},
   "outputs": [
    {
     "data": {
      "text/plain": [
       "[0, 2, 3, 1, 2, 4, 0, 1]"
      ]
     },
     "execution_count": 210,
     "metadata": {},
     "output_type": "execute_result"
    }
   ],
   "source": [
    "pred = [list(ps_).index(max(ps_)) for ps_ in ps]\n",
    "pred"
   ]
  },
  {
   "cell_type": "code",
   "execution_count": null,
   "metadata": {},
   "outputs": [],
   "source": []
  }
 ],
 "metadata": {
  "kernelspec": {
   "display_name": "Python 3",
   "language": "python",
   "name": "python3"
  },
  "language_info": {
   "codemirror_mode": {
    "name": "ipython",
    "version": 3
   },
   "file_extension": ".py",
   "mimetype": "text/x-python",
   "name": "python",
   "nbconvert_exporter": "python",
   "pygments_lexer": "ipython3",
   "version": "3.7.1"
  }
 },
 "nbformat": 4,
 "nbformat_minor": 2
}
